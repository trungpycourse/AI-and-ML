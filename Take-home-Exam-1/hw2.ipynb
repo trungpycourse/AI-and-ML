{
 "cells": [
  {
   "cell_type": "code",
   "execution_count": 7,
   "metadata": {},
   "outputs": [],
   "source": [
    "import pandas as pd\n",
    "import numpy as np\n"
   ]
  },
  {
   "cell_type": "code",
   "execution_count": 8,
   "metadata": {},
   "outputs": [],
   "source": [
    "'''\n",
    "Data Properties: 5400 samples, 10 features\n",
    "train_data : (5400,11)\n",
    "test_data: (600,10)\n",
    "'''\n",
    "train_data = pd.read_csv('./data/trn2.csv')\n",
    "test_data = pd.read_csv('./data/tst2.csv', header=None)\n",
    "\n",
    "# Prepare train and test data\n",
    "X_train = train_data.iloc[:, :-1].values #(5400,10)\n",
    "y_train = train_data.iloc[:, -1].values #(5400,)\n",
    "X_test = test_data.values #(600,10)\n",
    "\n",
    "\n",
    "N = X_train.shape[0] # number of train samples - 5400\n",
    "d = X_train.shape[1] # number of features - 10\n",
    "\n",
    "bias_train = np.ones([N, 1])\n",
    "order = 10\n",
    "\n",
    "X_train_poly = np.hstack([X_train**i  for i in range (1, order+1)]) #(5400,100)\n",
    "X_train_poly_bias = np.hstack([bias_train, X_train_poly]) #(5400,101)\n",
    "\n",
    "coefficients = np.linalg.inv(X_train_poly_bias.T @ X_train_poly_bias) @ X_train_poly_bias.T @ y_train #(101,)\n"
   ]
  },
  {
   "cell_type": "code",
   "execution_count": 9,
   "metadata": {},
   "outputs": [
    {
     "name": "stdout",
     "output_type": "stream",
     "text": [
      "Coefficient of Determination (R-squared): 0.9996417474102582\n",
      "(600, 100)\n",
      "(600, 101)\n",
      "(600,)\n"
     ]
    }
   ],
   "source": [
    "# Calculate the Coefficient of Determination (R-squared)\n",
    "y_train_pred = X_train_poly_bias @ coefficients\n",
    "mean_y = np.mean(y_train) \n",
    "r_squared = 1 - (np.sum((y_train - y_train_pred)**2) / np.sum((y_train - mean_y)**2))\n",
    "print(f'Coefficient of Determination (R-squared): {r_squared}')\n",
    "\n",
    "# Generate Testing Results\n",
    "X_test_poly = np.column_stack([X_test**i for i in range(1, order+1)]) #(600,100)\n",
    "\n",
    "bias_test = np.ones([X_test.shape[0], 1])\n",
    "X_test_poly_bias = np.hstack([bias_test, X_test_poly]) #(600,100)\n",
    "\n",
    "\n",
    "y_test_pred = X_test_poly_bias @ coefficients #(600,)\n"
   ]
  },
  {
   "cell_type": "code",
   "execution_count": 10,
   "metadata": {},
   "outputs": [],
   "source": [
    "# Save the results to result2.csv\n",
    "result_data = np.column_stack((X_test, y_test_pred))\n",
    "result_df = pd.DataFrame(result_data)\n",
    "result_df.to_csv('./results/result2.csv', index=False, header=False)\n"
   ]
  }
 ],
 "metadata": {
  "kernelspec": {
   "display_name": "base",
   "language": "python",
   "name": "python3"
  },
  "language_info": {
   "codemirror_mode": {
    "name": "ipython",
    "version": 3
   },
   "file_extension": ".py",
   "mimetype": "text/x-python",
   "name": "python",
   "nbconvert_exporter": "python",
   "pygments_lexer": "ipython3",
   "version": "3.10.9"
  }
 },
 "nbformat": 4,
 "nbformat_minor": 2
}
