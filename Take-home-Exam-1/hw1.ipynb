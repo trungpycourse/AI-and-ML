{
 "cells": [
  {
   "cell_type": "code",
   "execution_count": 50,
   "metadata": {},
   "outputs": [],
   "source": [
    "# Import libraries\n",
    "import pandas as pd\n",
    "import numpy as np\n"
   ]
  },
  {
   "cell_type": "code",
   "execution_count": 51,
   "metadata": {},
   "outputs": [],
   "source": [
    "'''\n",
    "Data properties: 8 classes (1,2,3,4,5,6,7,8), 8 features\n",
    "X_train shape: (10800, 8)\n",
    "y_train shape: (10800,)\n",
    "X_test shape:  (1200, 8)\n",
    "'''\n",
    "\n",
    "train_data = pd.read_csv('./data/trn1.csv')\n",
    "test_data = pd.read_csv('./data/tst1.csv', header=None)\n",
    "\n",
    "# Prepare train and test data\n",
    "X_train = train_data.iloc[:, :-1].values\n",
    "y_train = train_data.iloc[:, -1].values\n",
    "X_test = test_data.values\n",
    "\n",
    "\n",
    "C = len(np.unique(y_train)) # number of classes = 8\n",
    "N = X_train.shape[0] # number of samples = 10800\n",
    "d = X_train.shape[1] #number of features = 8\n",
    "\n",
    "class_probs = np.array([np.mean(y_train == i) for i in range(1, C + 1)]) # (8,)\n",
    "# print(class_probs.shape)\n",
    "\n",
    "class_means = np.array([np.mean(X_train[y_train == i], axis=0) for i in range(1, C + 1)]) #(8, 8)\n",
    "# print(class_means.shape)\n",
    "\n",
    "class_cov = np.array([np.cov(X_train[y_train == i].T) for i in range(1, C + 1)]) #(8, 8, 8)\n",
    "# print(class_cov.shape)\n"
   ]
  },
  {
   "cell_type": "code",
   "execution_count": 53,
   "metadata": {},
   "outputs": [
    {
     "name": "stdout",
     "output_type": "stream",
     "text": [
      "Training Accuracy = 0.8969444444444444\n"
     ]
    }
   ],
   "source": [
    "\n",
    "def discriminant_func(x, class_idx):\n",
    "    x_diff = x - class_means[class_idx - 1] \n",
    "    cov_inv = np.linalg.inv(class_cov[class_idx - 1])   \n",
    "    return -0.5 * np.log(np.linalg.det(class_cov[class_idx - 1])) - \\\n",
    "           0.5 * np.sum(x_diff @ cov_inv * x_diff, axis=1) + np.log(class_probs[class_idx - 1])\n",
    "\n",
    "determinants = np.array([np.linalg.det(cov_matrix) for cov_matrix in class_cov])\n",
    "\n",
    "discriminant_functions = np.array([discriminant_func(X_train, i) for i in range(1, C + 1)]).T\n",
    "train_prediction = np.argmax(discriminant_functions, axis=1) + 1\n",
    "\n",
    "accuracy = np.sum(train_prediction==y_train, axis=0)/y_train.shape[0]\n",
    "print(f\"Training Accuracy = {accuracy}\")\n",
    "\n"
   ]
  },
  {
   "cell_type": "code",
   "execution_count": 55,
   "metadata": {},
   "outputs": [],
   "source": [
    "\n",
    "discriminant_functions = np.array([discriminant_func(X_test, i) for i in range(1, C + 1)]).T\n",
    "test_prediction = np.argmax(discriminant_functions, axis=1) + 1\n",
    "\n",
    "# Add the predicted class to the testing data\n",
    "result_data = np.column_stack((test_data, test_prediction))\n",
    "\n",
    "# Save results to class1_result.csv\n",
    "result_df = pd.DataFrame(result_data)\n",
    "result_df.to_csv('./results/result1.csv', index=False, header=False)"
   ]
  },
  {
   "cell_type": "code",
   "execution_count": null,
   "metadata": {},
   "outputs": [],
   "source": []
  }
 ],
 "metadata": {
  "kernelspec": {
   "display_name": "base",
   "language": "python",
   "name": "python3"
  },
  "language_info": {
   "codemirror_mode": {
    "name": "ipython",
    "version": 3
   },
   "file_extension": ".py",
   "mimetype": "text/x-python",
   "name": "python",
   "nbconvert_exporter": "python",
   "pygments_lexer": "ipython3",
   "version": "3.10.9"
  }
 },
 "nbformat": 4,
 "nbformat_minor": 2
}
