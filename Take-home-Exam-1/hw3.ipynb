{
 "cells": [
  {
   "cell_type": "code",
   "execution_count": 1,
   "metadata": {},
   "outputs": [],
   "source": [
    "import pandas as pd\n",
    "import numpy as np\n"
   ]
  },
  {
   "cell_type": "code",
   "execution_count": 2,
   "metadata": {},
   "outputs": [],
   "source": [
    "'''\n",
    "Data properties: 8 classes (1,2,3,4,5,6,7,8), 8 features\n",
    "X_train shape: (10800, 8)\n",
    "y_train shape: (10800,)\n",
    "X_test shape:  (1200, 8)\n",
    "'''\n",
    "\n",
    "train_data = pd.read_csv('./data/trn1.csv')\n",
    "test_data = pd.read_csv('./data/tst1.csv', header=None)\n",
    "\n",
    "# Prepare train and test data\n",
    "X_train = train_data.iloc[:, :-1].values\n",
    "y_train = train_data.iloc[:, -1].values\n",
    "X_test = test_data.values\n",
    "\n",
    "\n",
    "C = len(np.unique(y_train)) # number of classes = 8\n",
    "N = X_train.shape[0] # number of samples = 10800\n",
    "d = X_train.shape[1] #number of features = 8\n",
    "I_matrix = np.identity(d)\n",
    "\n",
    "\n",
    "class_probs = np.array([np.mean(y_train == i) for i in range(1, C + 1)]) # (8,)\n",
    "# print(class_probs.shape)\n",
    "\n",
    "class_means = np.array([np.mean(X_train[y_train == i], axis=0) for i in range(1, C + 1)]) #(8, 8)\n",
    "# print(class_means.shape)\n",
    "\n",
    "class_cov = np.array([np.cov(X_train[y_train == i].T) for i in range(1, C + 1)]) #(8, 8, 8)\n",
    "# print(class_cov.shape)\n",
    "\n",
    "common_cov = np.sum([class_probs[i]*class_cov[i] for i in range (C)], axis=0) #(8,8)\n",
    "# print(common_cov.shape)\n",
    "\n",
    "diag_cov = common_cov * I_matrix #(8,8)\n",
    "# print(diag_cov.shape)\n",
    "\n"
   ]
  },
  {
   "cell_type": "code",
   "execution_count": 3,
   "metadata": {},
   "outputs": [
    {
     "name": "stdout",
     "output_type": "stream",
     "text": [
      "Accuracy - Normal = 0.8969444444444444\n"
     ]
    }
   ],
   "source": [
    "\n",
    "def discriminant_func(x, class_idx):\n",
    "    x_diff = x - class_means[class_idx - 1] \n",
    "    cov_inv = np.linalg.inv(class_cov[class_idx - 1])   \n",
    "    return -0.5 * np.log(np.linalg.det(class_cov[class_idx - 1])) - \\\n",
    "           0.5 * np.sum(x_diff @ cov_inv * x_diff, axis=1) + np.log(class_probs[class_idx - 1])\n",
    "\n",
    "determinants = np.array([np.linalg.det(cov_matrix) for cov_matrix in class_cov])\n",
    "\n",
    "discriminant_functions = np.array([discriminant_func(X_train, i) for i in range(1, C + 1)]).T\n",
    "\n",
    "predicted_classes = np.argmax(discriminant_functions, axis=1) + 1\n",
    "\n",
    "accuracy = np.sum(predicted_classes==y_train, axis=0)/y_train.shape[0]\n",
    "print(f\"Accuracy - Normal = {accuracy}\")\n",
    "\n"
   ]
  },
  {
   "cell_type": "markdown",
   "metadata": {},
   "source": [
    "# Common covariance matrix"
   ]
  },
  {
   "cell_type": "code",
   "execution_count": 4,
   "metadata": {},
   "outputs": [
    {
     "name": "stdout",
     "output_type": "stream",
     "text": [
      "Accuracy - Common = 0.8283333333333334\n"
     ]
    }
   ],
   "source": [
    "def common_discriminant_func(x, class_idx):\n",
    "    x_diff = x - class_means[class_idx - 1]\n",
    "    cov_inv = np.linalg.inv(common_cov)\n",
    "    return -0.5 * np.sum(x_diff.dot(cov_inv) * x_diff, axis=1) + np.log(class_probs[class_idx - 1])\n",
    "\n",
    "determinants_common = np.linalg.det(common_cov)\n",
    "\n",
    "common_discriminant_functions = np.array([common_discriminant_func(X_train, i) for i in range(1, C + 1)]).T\n",
    "\n",
    "predicted_classes = np.argmax(common_discriminant_functions, axis=1) + 1\n",
    "\n",
    "accuracy_common = np.sum(predicted_classes==y_train, axis=0)/y_train.shape[0]\n",
    "print(f\"Accuracy - Common = {accuracy_common}\")\n"
   ]
  },
  {
   "cell_type": "code",
   "execution_count": 5,
   "metadata": {},
   "outputs": [],
   "source": [
    "#Generate test result1\n",
    "\n",
    "common_discriminant_functions = np.array([common_discriminant_func(X_test, i) for i in range(1, C + 1)]).T\n",
    "test_prediction = np.argmax(common_discriminant_functions, axis=1) + 1\n",
    "\n",
    "# Add the predicted class to the testing data\n",
    "result_data1 = np.column_stack((test_data, test_prediction))\n",
    "\n",
    "# Save results to class1_result.csv\n",
    "result_df1 = pd.DataFrame(result_data1)\n",
    "result_df1.to_csv('./results/result3_1.csv', index=False, header=False)"
   ]
  },
  {
   "cell_type": "markdown",
   "metadata": {},
   "source": [
    "# Diagonal matrix"
   ]
  },
  {
   "cell_type": "code",
   "execution_count": 6,
   "metadata": {},
   "outputs": [
    {
     "name": "stdout",
     "output_type": "stream",
     "text": [
      "Accuracy - Diag = 0.8280555555555555\n"
     ]
    }
   ],
   "source": [
    "def diag_discriminant_func(x, class_idx):\n",
    "    x_diff = x - class_means[class_idx - 1]\n",
    "    cov_inv = np.linalg.inv(diag_cov)\n",
    "    return -0.5 * np.sum(x_diff.dot(cov_inv) * x_diff, axis=1) + np.log(class_probs[class_idx - 1])\n",
    "\n",
    "determinants_diag = np.linalg.det(diag_cov)\n",
    "\n",
    "diag_discriminant_functions = np.array([diag_discriminant_func(X_train, i) for i in range(1, C + 1)]).T\n",
    "\n",
    "predicted_classes = np.argmax(diag_discriminant_functions, axis=1) + 1\n",
    "\n",
    "accuracy_diag = np.sum(predicted_classes==y_train, axis=0)/y_train.shape[0]\n",
    "print(f\"Accuracy - Diag = {accuracy_diag}\")\n"
   ]
  },
  {
   "cell_type": "code",
   "execution_count": 7,
   "metadata": {},
   "outputs": [],
   "source": [
    "#Generate test result1\n",
    "\n",
    "diag_discriminant_functions = np.array([diag_discriminant_func(X_test, i) for i in range(1, C + 1)]).T\n",
    "test_prediction = np.argmax(diag_discriminant_functions, axis=1) + 1\n",
    "\n",
    "# Add the predicted class to the testing data\n",
    "result_data2 = np.column_stack((test_data, test_prediction))\n",
    "\n",
    "# Save results to class1_result.csv\n",
    "result_df2 = pd.DataFrame(result_data1)\n",
    "result_df2.to_csv('./results/result3_2.csv', index=False, header=False)"
   ]
  },
  {
   "cell_type": "code",
   "execution_count": null,
   "metadata": {},
   "outputs": [],
   "source": []
  }
 ],
 "metadata": {
  "kernelspec": {
   "display_name": "base",
   "language": "python",
   "name": "python3"
  },
  "language_info": {
   "codemirror_mode": {
    "name": "ipython",
    "version": 3
   },
   "file_extension": ".py",
   "mimetype": "text/x-python",
   "name": "python",
   "nbconvert_exporter": "python",
   "pygments_lexer": "ipython3",
   "version": "3.10.9"
  }
 },
 "nbformat": 4,
 "nbformat_minor": 2
}
